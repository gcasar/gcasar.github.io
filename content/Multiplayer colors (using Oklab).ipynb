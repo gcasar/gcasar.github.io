{
    "metadata": {
        "kernelspec": {
            "name": "python",
            "display_name": "Python (Pyodide)",
            "language": "python"
        },
        "language_info": {
            "codemirror_mode": {
                "name": "python",
                "version": 3
            },
            "file_extension": ".py",
            "mimetype": "text/x-python",
            "name": "python",
            "nbconvert_exporter": "python",
            "pygments_lexer": "ipython3",
            "version": "3.8"
        }
    },
    "nbformat_minor": 4,
    "nbformat": 4,
    "cells": [
        {
            "cell_type": "markdown",
            "source": "# Multiplayer colors\n\nA long time ago I built a multiplayer game skeleton. Because I had a tough time picking a few colors for the players I instead _generated_ them using `HSB` by hardcoding `Saturation` and `Brightness` while the `Hue` bit was selected at random. Thankfully thats where I stopped and implemented some of the _game_. \n\nWhat if I were to continue today?",
            "metadata": {}
        },
        {
            "cell_type": "code",
            "source": "%pip install -q ipywidgets",
            "metadata": {
                "trusted": true
            },
            "execution_count": 1,
            "outputs": []
        },
        {
            "cell_type": "code",
            "source": "from ipywidgets import interactive\nfrom IPython.display import display, HTML\n\ndef html(L=90, a=-0.13, b=0.2):\n    display( \n        HTML(\n            f'''<div style=\"background: oklab({L}% {a} {b}); width: 400px; height: 100px; border-radius: 10px;\"></div>'''\n        )\n    )\n\nw = interactive(html, L=(0,100), a=(-0.5, 0.5, 0.01), b=(-0.5, 0.5, 0.01))\nw",
            "metadata": {
                "trusted": true
            },
            "execution_count": 3,
            "outputs": [
                {
                    "execution_count": 3,
                    "output_type": "execute_result",
                    "data": {
                        "text/plain": "interactive(children=(IntSlider(value=90, description='L'), FloatSlider(value=-0.13, description='a', max=0.5,…",
                        "application/vnd.jupyter.widget-view+json": {
                            "version_major": 2,
                            "version_minor": 0,
                            "model_id": "2eed96b7d5ff4cc29b6a83e3c47b32e3"
                        }
                    },
                    "metadata": {}
                }
            ]
        }
    ]
}
