{
    "metadata": {
        "kernelspec": {
            "name": "p5js",
            "display_name": "p5.js",
            "language": "javascript"
        },
        "language_info": {
            "codemirror_mode": {
                "name": "javascript"
            },
            "file_extension": ".js",
            "mimetype": "text/javascript",
            "name": "p5js",
            "nbconvert_exporter": "javascript",
            "pygments_lexer": "javascript",
            "version": "es2017"
        }
    },
    "nbformat_minor": 4,
    "nbformat": 4,
    "cells": [
        {
            "cell_type": "markdown",
            "source": "# Multiplayer colors\n\nA long time ago I built a multiplayer game skeleton. Because I had a tough time picking a few colors for the players I instead _generated_ them using `HSB` by hardcoding `Saturation` and `Brightness` while the `Hue` bit was selected at random. Thankfully thats where I stopped and implemented some of the _game_. What if I were to continue today?",
            "metadata": {}
        },
        {
            "cell_type": "markdown",
            "source": "First let's define a couple of variables:",
            "metadata": {}
        },
        {
            "cell_type": "code",
            "source": "var n = 4;\nvar speed = 1;",
            "metadata": {
                "trusted": true
            },
            "execution_count": 3,
            "outputs": [
                {
                    "execution_count": 3,
                    "output_type": "execute_result",
                    "data": {},
                    "metadata": {}
                }
            ]
        },
        {
            "cell_type": "code",
            "source": "function clamp(value, min, max) {\n  return Math.max(Math.min(value, max), min);\n}\n\nfunction rgbToHex({r, g, b}) {\n  return \"#\" + (b | (g << 8) | (r << 16) | (1 << 24)).toString(16).slice(1);\n}\n\nconst linearToGamma = (c) =>\n  c >= 0.0031308 ? 1.055 * Math.pow(c, 1 / 2.4) - 0.055 : 12.92 * c;\n\n\nfunction oklabToSRGB({L, a, b}) {\n  var l = L + a * +0.3963377774 + b * +0.2158037573;\n  var m = L + a * -0.1055613458 + b * -0.0638541728;\n  var s = L + a * -0.0894841775 + b * -1.2914855480;\n  // The ** operator here cubes; same as l_*l_*l_ in the C++ example:\n  l = l ** 3; m = m ** 3; s = s ** 3;\n  var r = l * +4.0767416621 + m * -3.3077115913 + s * +0.2309699292;\n  var g = l * -1.2684380046 + m * +2.6097574011 + s * -0.3413193965;\n  var b = l * -0.0041960863 + m * -0.7034186147 + s * +1.7076147010;\n  // Convert linear RGB values returned from oklab math to sRGB for our use before returning them:\n  r = 255 * linearToGamma(r); g = 255 * linearToGamma(g); b = 255 * linearToGamma(b);\n  // OPTION: clamp r g and b values to the range 0-255; but if you use the values immediately to draw, JavaScript clamps them on use:\n  r = clamp(r, 0, 255); g = clamp(g, 0, 255); b = clamp(b, 0, 255);\n  // OPTION: round the values. May not be necessary if you use them immediately for rendering in JavaScript, as JavaScript (also) discards decimals on render:\n    r = Math.round(r); g = Math.round(g); b = Math.round(b);\n  return {r, g, b};\n}",
            "metadata": {
                "trusted": true
            },
            "execution_count": 13,
            "outputs": []
        },
        {
            "cell_type": "markdown",
            "source": "## The `setup` function\n\nThe usual p5 setup function, which creates the canvas.",
            "metadata": {}
        },
        {
            "cell_type": "code",
            "source": "function setup () {\n  createCanvas(innerWidth, innerHeight);\n  rectMode(CENTER);\n}",
            "metadata": {
                "trusted": true
            },
            "execution_count": 1,
            "outputs": [
                {
                    "execution_count": 1,
                    "output_type": "execute_result",
                    "data": {},
                    "metadata": {}
                }
            ]
        },
        {
            "cell_type": "markdown",
            "source": "## The `draw` function\n\nFrom the [p5.js documentation](https://p5js.org/reference/#/p5/draw):\n\n> The `draw()` function continuously executes the lines of code contained inside its block until the program is stopped or `noLoop()` is called.",
            "metadata": {
                "tags": []
            }
        },
        {
            "cell_type": "code",
            "source": "function draw() {\n  let c = oklabToSRGB({L: 0.65, a:-0.06, b: -0.18});\n  c = oklabToSRGB({L: 0.65, a:0.20, b:0.12});\n  background(rgbToHex(c));\n  translate(innerWidth / 2, innerHeight / 2);\n  for (let i = 0; i < n; i++) {\n    push();\n    rotate(frameCount * speed / 1000 * (i + 1));\n    let f = oklabToSRGB({L: 0.2+i*(0.10), a:0.20, b:-0.18});\n    fill(f.r, f.g, f.b);\n    const s = 200 - i * 10;\n    rect(0, 0, s, s);\n    pop();\n  }\n}",
            "metadata": {
                "trusted": true
            },
            "execution_count": 26,
            "outputs": []
        },
        {
            "cell_type": "code",
            "source": "%show",
            "metadata": {
                "trusted": true
            },
            "execution_count": 19,
            "outputs": [
                {
                    "output_type": "display_data",
                    "data": {
                        "text/html-sandboxed": "<body style=\"overflow: hidden;\">\n<script>\n        \n    import('https://cdn.jsdelivr.net/npm/p5@1.4.2/lib/p5.js').then(() => {\n      // create the p5 global instance\n      window.__globalP5 = new p5();\n      return Promise.resolve();\n    })\n  .then(() => {\n          try {\nwindow.eval(`function setup () {\n  createCanvas(innerWidth, innerHeight);\n  rectMode(CENTER);\n}`);\n} catch(e) {}\ntry {\nwindow.eval(`function draw() {\n  background('#ddd');\n  translate(innerWidth / 2, innerHeight / 2);\n  for (let i = 0; i < n; i++) {\n    push();\n    rotate(frameCount * speed / 1000 * (i + 1));\n    fill(i * 5, i * 100, i * 150);\n    const s = 200 - i * 10;\n    rect(0, 0, s, s);\n    pop();\n  }\n}`);\n} catch(e) {}\ntry {\nwindow.eval(`var n = 4;\nvar speed = 1;`);\n} catch(e) {}\ntry {\nwindow.eval(`function draw() {\n  background('#ddd');\n  translate(innerWidth / 2, innerHeight / 2);\n  for (let i = 0; i < n; i++) {\n    push();\n    rotate(frameCount * speed / 1000 * (i + 1));\n    fill(i * 5, i * 100, i * 150);\n    const s = 200 - i * 10;\n    rect(0, 0, s, s);\n    pop();\n  }\n}`);\n} catch(e) {}\ntry {\nwindow.eval(`function clamp(value, min, max) {\n  return Math.max(Math.min(value, max), min);\n}\n\nfunction rgbToHex({r, g, b}) {\n  return \"#\" + (b | (g << 8) | (r << 16) | (1 << 24)).toString(16).slice(1);\n}\n\nconst gammaToLinear = (c) =>\n  c >= 0.04045 ? Math.pow((c + 0.055) / 1.055, 2.4) : c / 12.92;\n\nconst linearToGamma = (c) =>\n  c >= 0.0031308 ? 1.055 * Math.pow(c, 1 / 2.4) - 0.055 : 12.92 * c;\n\nfunction rgbToOklab({r, g, b}) {\n  // This is my undersanding: JavaScript canvas and many other virtual and literal devices use gamma-corrected (non-linear lightness) RGB, or sRGB. To convert sRGB values for manipulation in the Oklab color space, you must first convert them to linear RGB. Where Oklab interfaces with RGB it expects and returns linear RGB values. This next step converts (via a function) sRGB to linear RGB for Oklab to use:\n  r = gammaToLinear(r / 255); g = gammaToLinear(g / 255); b = gammaToLinear(b / 255);\n  // This is the Oklab math:\n  var l = 0.4122214708 * r + 0.5363325363 * g + 0.0514459929 * b;\n  var m = 0.2119034982 * r + 0.6806995451 * g + 0.1073969566 * b;\n  var s = 0.0883024619 * r + 0.2817188376 * g + 0.6299787005 * b;\n  // Math.crb (cube root) here is the equivalent of the C++ cbrtf function here: https://bottosson.github.io/posts/oklab/#converting-from-linear-srgb-to-oklab\n  l = Math.cbrt(l); m = Math.cbrt(m); s = Math.cbrt(s);\n  return {\n    L: l * +0.2104542553 + m * +0.7936177850 + s * -0.0040720468,\n    a: l * +1.9779984951 + m * -2.4285922050 + s * +0.4505937099,\n    b: l * +0.0259040371 + m * +0.7827717662 + s * -0.8086757660\n  }\n}`);\n} catch(e) {}\ntry {\nwindow.eval(`function draw() {\n  background(rgbToHex({r:255, g:100, b:100}));\n  translate(innerWidth / 2, innerHeight / 2);\n  for (let i = 0; i < n; i++) {\n    push();\n    rotate(frameCount * speed / 1000 * (i + 1));\n    fill(i * 5, i * 100, i * 150);\n    const s = 200 - i * 10;\n    rect(0, 0, s, s);\n    pop();\n  }\n}`);\n} catch(e) {}\ntry {\nwindow.eval(`function draw() {\n  background(rgbToHex({r:155, g:100, b:100}));\n  translate(innerWidth / 2, innerHeight / 2);\n  for (let i = 0; i < n; i++) {\n    push();\n    rotate(frameCount * speed / 1000 * (i + 1));\n    fill(i * 5, i * 100, i * 150);\n    const s = 200 - i * 10;\n    rect(0, 0, s, s);\n    pop();\n  }\n}`);\n} catch(e) {}\ntry {\nwindow.eval(`function draw() {\n  background(rgbToHex({r:155, g:100, b:100}));\n  translate(innerWidth / 2, innerHeight / 2);\n  for (let i = 0; i < n; i++) {\n    push();\n    rotate(frameCount * speed / 1000 * (i + 1));\n    fill(i * 5, i * 100, i * 150);\n    const s = 200 - i * 10;\n    rect(0, 0, s, s);\n    pop();\n  }\n}`);\n} catch(e) {}\ntry {\nwindow.eval(`function clamp(value, min, max) {\n  return Math.max(Math.min(value, max), min);\n}\n\nfunction rgbToHex({r, g, b}) {\n  return \"#\" + (b | (g << 8) | (r << 16) | (1 << 24)).toString(16).slice(1);\n}\n\nconst linearToGamma = (c) =>\n  c >= 0.0031308 ? 1.055 * Math.pow(c, 1 / 2.4) - 0.055 : 12.92 * c;\n\n\nfunction oklabToSRGB({L, a, b}) {\n  var l = L + a * +0.3963377774 + b * +0.2158037573;\n  var m = L + a * -0.1055613458 + b * -0.0638541728;\n  var s = L + a * -0.0894841775 + b * -1.2914855480;\n  // The ** operator here cubes; same as l_*l_*l_ in the C++ example:\n  l = l ** 3; m = m ** 3; s = s ** 3;\n  var r = l * +4.0767416621 + m * -3.3077115913 + s * +0.2309699292;\n  var g = l * -1.2684380046 + m * +2.6097574011 + s * -0.3413193965;\n  var b = l * -0.0041960863 + m * -0.7034186147 + s * +1.7076147010;\n  // Convert linear RGB values returned from oklab math to sRGB for our use before returning them:\n  r = 255 * linearToGamma(r); g = 255 * linearToGamma(g); b = 255 * linearToGamma(b);\n  // OPTION: clamp r g and b values to the range 0-255; but if you use the values immediately to draw, JavaScript clamps them on use:\n  r = clamp(r, 0, 255); g = clamp(g, 0, 255); b = clamp(b, 0, 255);\n  // OPTION: round the values. May not be necessary if you use them immediately for rendering in JavaScript, as JavaScript (also) discards decimals on render:\n    r = Math.round(r); g = Math.round(g); b = Math.round(b);\n  return {r, g, b};\n}`);\n} catch(e) {}\ntry {\nwindow.eval(`function draw() {\n  let c = oklabToSRGB({L: 50, a: 50, b: 50});\n  background(rgbToHex(c));\n  translate(innerWidth / 2, innerHeight / 2);\n  for (let i = 0; i < n; i++) {\n    push();\n    rotate(frameCount * speed / 1000 * (i + 1));\n    fill(i * 5, i * 100, i * 150);\n    const s = 200 - i * 10;\n    rect(0, 0, s, s);\n    pop();\n  }\n}`);\n} catch(e) {}\ntry {\nwindow.eval(`function draw() {\n  let c = oklabToSRGB({L: 0.65, a:-0.06, b: -0.18});\n  let d = oklabToSRGB({L: 0.65, a:0.20, b:0.12});\n  background(rgbToHex(c));\n  translate(innerWidth / 2, innerHeight / 2);\n  for (let i = 0; i < n; i++) {\n    push();\n    rotate(frameCount * speed / 1000 * (i + 1));\n    fill(i * 5, i * 100, i * 150);\n    const s = 200 - i * 10;\n    rect(0, 0, s, s);\n    pop();\n  }\n}`);\n} catch(e) {}\ntry {\nwindow.eval(`function draw() {\n  let c = oklabToSRGB({L: 0.65, a:-0.06, b: -0.18});\n  c = oklabToSRGB({L: 0.65, a:0.20, b:0.12});\n  background(rgbToHex(c));\n  translate(innerWidth / 2, innerHeight / 2);\n  for (let i = 0; i < n; i++) {\n    push();\n    rotate(frameCount * speed / 1000 * (i + 1));\n    fill(i * 5, i * 100, i * 150);\n    const s = 200 - i * 10;\n    rect(0, 0, s, s);\n    pop();\n  }\n}`);\n} catch(e) {}\ntry {\nwindow.eval(`function draw() {\n  let c = oklabToSRGB({L: 0.65, a:-0.06, b: -0.18});\n  c = oklabToSRGB({L: 0.65, a:0.20, b:0.12});\n  c = oklabToSRGB({L: 0.65, a:0.20, b:-0.18});\n  c = oklabToSRGB({L: 0.65, a:-0.06, b:0.12});\n  background(rgbToHex(c));\n  translate(innerWidth / 2, innerHeight / 2);\n  for (let i = 0; i < n; i++) {\n    push();\n    rotate(frameCount * speed / 1000 * (i + 1));\n    fill(i * 5, i * 100, i * 150);\n    const s = 200 - i * 10;\n    rect(0, 0, s, s);\n    pop();\n  }\n}`);\n} catch(e) {}\ntry {\nwindow.eval(`function draw() {\n  let c = oklabToSRGB({L: 0.65, a:-0.06, b: -0.18});\n  c = oklabToSRGB({L: 0.65, a:0.20, b:0.12});\n  c = oklabToSRGB({L: 0.65, a:0.20, b:-0.18});\n  c = oklabToSRGB({L: 0.65, a:-0.16, b:-0.20});\n  background(rgbToHex(c));\n  translate(innerWidth / 2, innerHeight / 2);\n  for (let i = 0; i < n; i++) {\n    push();\n    rotate(frameCount * speed / 1000 * (i + 1));\n    fill(i * 5, i * 100, i * 150);\n    const s = 200 - i * 10;\n    rect(0, 0, s, s);\n    pop();\n  }\n}`);\n} catch(e) {}\ntry {\nwindow.eval(`function draw() {\n  let c = oklabToSRGB({L: 0.65, a:-0.06, b: -0.18});\n  c = oklabToSRGB({L: 0.65, a:0.20, b:0.12});\n  c = oklabToSRGB({L: 0.65, a:0.20, b:-0.18});\n  c = oklabToSRGB({L: 0.65, a:-0.12, b:-0.13});\n  background(rgbToHex(c));\n  translate(innerWidth / 2, innerHeight / 2);\n  for (let i = 0; i < n; i++) {\n    push();\n    rotate(frameCount * speed / 1000 * (i + 1));\n    fill(i * 5, i * 100, i * 150);\n    const s = 200 - i * 10;\n    rect(0, 0, s, s);\n    pop();\n  }\n}`);\n} catch(e) {}\ntry {\nwindow.eval(`function draw() {\n  let c = oklabToSRGB({L: 0.65, a:-0.06, b: -0.18});\n  c = oklabToSRGB({L: 0.65, a:0.20, b:0.12});\n  c = oklabToSRGB({L: 0.65, a:0.20, b:-0.18});\n  background(rgbToHex(c));\n  translate(innerWidth / 2, innerHeight / 2);\n  for (let i = 0; i < n; i++) {\n    push();\n    rotate(frameCount * speed / 1000 * (i + 1));\n    fill(i * 5, i * 100, i * 150);\n    const s = 200 - i * 10;\n    rect(0, 0, s, s);\n    pop();\n  }\n}`);\n} catch(e) {}\ntry {\nwindow.eval(`function draw() {\n  let c = oklabToSRGB({L: 0.65, a:-0.06, b: -0.18});\n  c = oklabToSRGB({L: 0.65, a:0.20, b:0.12});\n  c = oklabToSRGB({L: 0.65, a:0.20, b:-0.18});\n  background(rgbToHex(c));\n  translate(innerWidth / 2, innerHeight / 2);\n  for (let i = 0; i < n; i++) {\n    push();\n    rotate(frameCount * speed / 1000 * (i + 1));\n    let f = oklabToSRGB({L: 0.2+i(10), a:0.20, b:-0.18});\n    fill(f.r, f.g, f.b);\n    const s = 200 - i * 10;\n    rect(0, 0, s, s);\n    pop();\n  }\n}`);\n} catch(e) {}\ntry {\nwindow.eval(`function draw() {\n  let c = oklabToSRGB({L: 0.65, a:-0.06, b: -0.18});\n  c = oklabToSRGB({L: 0.65, a:0.20, b:0.12});\n  c = oklabToSRGB({L: 0.65, a:0.20, b:-0.18});\n  background(rgbToHex(c));\n  translate(innerWidth / 2, innerHeight / 2);\n  for (let i = 0; i < n; i++) {\n    push();\n    rotate(frameCount * speed / 1000 * (i + 1));\n    let f = oklabToSRGB({L: 0.2+i*(0.10), a:0.20, b:-0.18});\n    fill(f.r, f.g, f.b);\n    const s = 200 - i * 10;\n    rect(0, 0, s, s);\n    pop();\n  }\n}`);\n} catch(e) {}\n          window.__globalP5._start();\n        })\n      </script>\n</body>"
                    },
                    "metadata": {
                        "text/html-sandboxed": {}
                    }
                }
            ]
        },
        {
            "cell_type": "code",
            "source": "",
            "metadata": {},
            "execution_count": null,
            "outputs": []
        }
    ]
}
